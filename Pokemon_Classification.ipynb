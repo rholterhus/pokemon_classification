{
 "cells": [
  {
   "cell_type": "code",
   "execution_count": 70,
   "metadata": {},
   "outputs": [],
   "source": [
    "poke.data = read.csv(\"~\\\\Pokemon.csv\")"
   ]
  },
  {
   "cell_type": "code",
   "execution_count": 71,
   "metadata": {},
   "outputs": [],
   "source": [
    "# First, we attempt to classify a pokemon as Legendary, given its stats\n",
    "\n",
    "# Also, we want to change our data to disregard the name. We also get\n",
    "# rid of the Pokedex number of each pokemon.\n",
    "\n",
    "rownames(poke.data) = poke.data[,2]\n",
    "poke.data = poke.data[,-1]\n",
    "poke.data = poke.data[,-1]"
   ]
  },
  {
   "cell_type": "code",
   "execution_count": 75,
   "metadata": {
    "scrolled": true
   },
   "outputs": [
    {
     "data": {
      "text/html": [
       "<dl class=dl-horizontal>\n",
       "\t<dt>(Intercept)</dt>\n",
       "\t\t<dd>-25.1517184093284</dd>\n",
       "\t<dt>Total</dt>\n",
       "\t\t<dd>0.0561477950088734</dd>\n",
       "\t<dt>HP</dt>\n",
       "\t\t<dd>-0.0205338690870834</dd>\n",
       "\t<dt>Attack</dt>\n",
       "\t\t<dd>-0.0376931377116793</dd>\n",
       "\t<dt>Defense</dt>\n",
       "\t\t<dd>-0.0180068203946441</dd>\n",
       "\t<dt>Sp..Atk</dt>\n",
       "\t\t<dd>-0.0179914804018523</dd>\n",
       "\t<dt>Sp..Def</dt>\n",
       "\t\t<dd>-0.0111545542551051</dd>\n",
       "\t<dt>Speed</dt>\n",
       "\t\t<dd>&lt;NA&gt;</dd>\n",
       "\t<dt>Generation</dt>\n",
       "\t\t<dd>0.452091980760953</dd>\n",
       "</dl>\n"
      ],
      "text/latex": [
       "\\begin{description*}\n",
       "\\item[(Intercept)] -25.1517184093284\n",
       "\\item[Total] 0.0561477950088734\n",
       "\\item[HP] -0.0205338690870834\n",
       "\\item[Attack] -0.0376931377116793\n",
       "\\item[Defense] -0.0180068203946441\n",
       "\\item[Sp..Atk] -0.0179914804018523\n",
       "\\item[Sp..Def] -0.0111545542551051\n",
       "\\item[Speed] <NA>\n",
       "\\item[Generation] 0.452091980760953\n",
       "\\end{description*}\n"
      ],
      "text/markdown": [
       "(Intercept)\n",
       ":   -25.1517184093284Total\n",
       ":   0.0561477950088734HP\n",
       ":   -0.0205338690870834Attack\n",
       ":   -0.0376931377116793Defense\n",
       ":   -0.0180068203946441Sp..Atk\n",
       ":   -0.0179914804018523Sp..Def\n",
       ":   -0.0111545542551051Speed\n",
       ":   &lt;NA&gt;Generation\n",
       ":   0.452091980760953\n",
       "\n"
      ],
      "text/plain": [
       " (Intercept)        Total           HP       Attack      Defense      Sp..Atk \n",
       "-25.15171841   0.05614780  -0.02053387  -0.03769314  -0.01800682  -0.01799148 \n",
       "     Sp..Def        Speed   Generation \n",
       " -0.01115455           NA   0.45209198 "
      ]
     },
     "metadata": {},
     "output_type": "display_data"
    }
   ],
   "source": [
    "# We use Logistic Regression first, using ALL data \n",
    "# I also will get rid of the type of the pokemon, as this likely has no\n",
    "# correlation to whether or not the pokemon is legendary\n",
    "\n",
    "poke.data.notype = poke.data[,-1]\n",
    "poke.data.notype = poke.data.notype[,-1]\n",
    "\n",
    "\n",
    "\n",
    "log.fit = glm(Legendary ~., data = poke.data.notype, family = binomial)\n",
    "coef(log.fit)"
   ]
  },
  {
   "cell_type": "code",
   "execution_count": 85,
   "metadata": {},
   "outputs": [
    {
     "name": "stderr",
     "output_type": "stream",
     "text": [
      "Warning message in predict.lm(object, newdata, se.fit, scale = 1, type = ifelse(type == :\n",
      "\"prediction from a rank-deficient fit may be misleading\""
     ]
    },
    {
     "data": {
      "text/html": [
       "<strong>MewtwoMega Mewtwo Y:</strong> 165"
      ],
      "text/latex": [
       "\\textbf{MewtwoMega Mewtwo Y:} 165"
      ],
      "text/markdown": [
       "**MewtwoMega Mewtwo Y:** 165"
      ],
      "text/plain": [
       "MewtwoMega Mewtwo Y \n",
       "                165 "
      ]
     },
     "metadata": {},
     "output_type": "display_data"
    },
    {
     "data": {
      "text/html": [
       "<strong>MewtwoMega Mewtwo Y:</strong> 0.99437963114536"
      ],
      "text/latex": [
       "\\textbf{MewtwoMega Mewtwo Y:} 0.99437963114536"
      ],
      "text/markdown": [
       "**MewtwoMega Mewtwo Y:** 0.99437963114536"
      ],
      "text/plain": [
       "MewtwoMega Mewtwo Y \n",
       "          0.9943796 "
      ]
     },
     "metadata": {},
     "output_type": "display_data"
    },
    {
     "data": {
      "text/html": [
       "<strong>Sunkern:</strong> 207"
      ],
      "text/latex": [
       "\\textbf{Sunkern:} 207"
      ],
      "text/markdown": [
       "**Sunkern:** 207"
      ],
      "text/plain": [
       "Sunkern \n",
       "    207 "
      ]
     },
     "metadata": {},
     "output_type": "display_data"
    },
    {
     "data": {
      "text/html": [
       "<strong>Sunkern:</strong> 3.05981210851802e-08"
      ],
      "text/latex": [
       "\\textbf{Sunkern:} 3.05981210851802e-08"
      ],
      "text/markdown": [
       "**Sunkern:** 3.05981210851802e-08"
      ],
      "text/plain": [
       "     Sunkern \n",
       "3.059812e-08 "
      ]
     },
     "metadata": {},
     "output_type": "display_data"
    }
   ],
   "source": [
    "# The coefficients seem wonky to me. Let's see how accurate it is\n",
    "\n",
    "log.prob = predict(log.fit, poke.data.notype, type = \"response\")\n",
    "\n",
    "\n",
    "# Which pokemon is the fit most certain is a legendary? Which is the fit\n",
    "# most certain is not a legendary?\n",
    "\n",
    "which.max(log.prob)\n",
    "log.prob[which.max(log.prob)]\n",
    "\n",
    "which.min(log.prob)\n",
    "log.prob[which.min(log.prob)]"
   ]
  },
  {
   "cell_type": "code",
   "execution_count": 123,
   "metadata": {},
   "outputs": [
    {
     "data": {
      "text/plain": [
       "        \n",
       "log.pred False True\n",
       "   False   720   27\n",
       "   True     15   38"
      ]
     },
     "metadata": {},
     "output_type": "display_data"
    },
    {
     "data": {
      "text/html": [
       "0.9475"
      ],
      "text/latex": [
       "0.9475"
      ],
      "text/markdown": [
       "0.9475"
      ],
      "text/plain": [
       "[1] 0.9475"
      ]
     },
     "metadata": {},
     "output_type": "display_data"
    }
   ],
   "source": [
    "# Apparently Mega Mewtwo Y is 99.4% likely to be a legendary based \n",
    "# on its stats. Conversely, it is very certain that Sunkern is not\n",
    "# a legendary\n",
    "\n",
    "# We will check how accurate our model was on our train data, by seeing\n",
    "# how many pokemon were correctly classified\n",
    "\n",
    "log.pred = rep(\"False\", nrow(poke.data.notype))\n",
    "log.pred[log.prob >= 0.5] = \"True\"\n",
    "\n",
    "table(log.pred, poke.data.notype$Legendary)\n",
    "mean(log.pred == poke.data.notype$Legendary)"
   ]
  },
  {
   "cell_type": "code",
   "execution_count": 152,
   "metadata": {
    "scrolled": true
   },
   "outputs": [],
   "source": [
    "# Our model correctly classified ~ 95% of the pokemon as legendary or \n",
    "# non-legendary, based on its stats. Keep in mind, I could have severely\n",
    "# overfit this data, as this is only the training error. In practice, the\n",
    "# test error is much higher. We will explore this in a moment, using \n",
    "# cross validation"
   ]
  },
  {
   "cell_type": "code",
   "execution_count": 153,
   "metadata": {},
   "outputs": [],
   "source": [
    "# Here is something interesting to note. Since 92% of pokemon are not\n",
    "# not legendary, a model where we simply guess that each pokemon is \n",
    "# not legendary wouldn't be much worse than our current model."
   ]
  },
  {
   "cell_type": "code",
   "execution_count": 116,
   "metadata": {},
   "outputs": [
    {
     "data": {
      "text/html": [
       "735"
      ],
      "text/latex": [
       "735"
      ],
      "text/markdown": [
       "735"
      ],
      "text/plain": [
       "[1] 735"
      ]
     },
     "metadata": {},
     "output_type": "display_data"
    },
    {
     "data": {
      "text/html": [
       "0.91875"
      ],
      "text/latex": [
       "0.91875"
      ],
      "text/markdown": [
       "0.91875"
      ],
      "text/plain": [
       "[1] 0.91875"
      ]
     },
     "metadata": {},
     "output_type": "display_data"
    }
   ],
   "source": [
    "sum(poke.data.notype$Legendary == \"False\") / nrow(poke.data.notype)"
   ]
  },
  {
   "cell_type": "code",
   "execution_count": 151,
   "metadata": {},
   "outputs": [
    {
     "data": {
      "text/html": [
       "<ol class=list-inline>\n",
       "\t<li>'Zapdos'</li>\n",
       "\t<li>'Moltres'</li>\n",
       "\t<li>'Raikou'</li>\n",
       "\t<li>'Entei'</li>\n",
       "\t<li>'Suicune'</li>\n",
       "\t<li>'Regirock'</li>\n",
       "\t<li>'Regice'</li>\n",
       "\t<li>'Registeel'</li>\n",
       "\t<li>'Latios'</li>\n",
       "\t<li>'Jirachi'</li>\n",
       "\t<li>'DeoxysNormal Forme'</li>\n",
       "\t<li>'DeoxysAttack Forme'</li>\n",
       "\t<li>'Uxie'</li>\n",
       "\t<li>'Mesprit'</li>\n",
       "\t<li>'Azelf'</li>\n",
       "\t<li>'Heatran'</li>\n",
       "\t<li>'ShayminLand Forme'</li>\n",
       "\t<li>'Cobalion'</li>\n",
       "\t<li>'Terrakion'</li>\n",
       "\t<li>'TornadusIncarnate Forme'</li>\n",
       "\t<li>'TornadusTherian Forme'</li>\n",
       "\t<li>'ThundurusIncarnate Forme'</li>\n",
       "\t<li>'ThundurusTherian Forme'</li>\n",
       "\t<li>'LandorusIncarnate Forme'</li>\n",
       "\t<li>'LandorusTherian Forme'</li>\n",
       "\t<li>'Volcanion'</li>\n",
       "</ol>\n"
      ],
      "text/latex": [
       "\\begin{enumerate*}\n",
       "\\item 'Zapdos'\n",
       "\\item 'Moltres'\n",
       "\\item 'Raikou'\n",
       "\\item 'Entei'\n",
       "\\item 'Suicune'\n",
       "\\item 'Regirock'\n",
       "\\item 'Regice'\n",
       "\\item 'Registeel'\n",
       "\\item 'Latios'\n",
       "\\item 'Jirachi'\n",
       "\\item 'DeoxysNormal Forme'\n",
       "\\item 'DeoxysAttack Forme'\n",
       "\\item 'Uxie'\n",
       "\\item 'Mesprit'\n",
       "\\item 'Azelf'\n",
       "\\item 'Heatran'\n",
       "\\item 'ShayminLand Forme'\n",
       "\\item 'Cobalion'\n",
       "\\item 'Terrakion'\n",
       "\\item 'TornadusIncarnate Forme'\n",
       "\\item 'TornadusTherian Forme'\n",
       "\\item 'ThundurusIncarnate Forme'\n",
       "\\item 'ThundurusTherian Forme'\n",
       "\\item 'LandorusIncarnate Forme'\n",
       "\\item 'LandorusTherian Forme'\n",
       "\\item 'Volcanion'\n",
       "\\end{enumerate*}\n"
      ],
      "text/markdown": [
       "1. 'Zapdos'\n",
       "2. 'Moltres'\n",
       "3. 'Raikou'\n",
       "4. 'Entei'\n",
       "5. 'Suicune'\n",
       "6. 'Regirock'\n",
       "7. 'Regice'\n",
       "8. 'Registeel'\n",
       "9. 'Latios'\n",
       "10. 'Jirachi'\n",
       "11. 'DeoxysNormal Forme'\n",
       "12. 'DeoxysAttack Forme'\n",
       "13. 'Uxie'\n",
       "14. 'Mesprit'\n",
       "15. 'Azelf'\n",
       "16. 'Heatran'\n",
       "17. 'ShayminLand Forme'\n",
       "18. 'Cobalion'\n",
       "19. 'Terrakion'\n",
       "20. 'TornadusIncarnate Forme'\n",
       "21. 'TornadusTherian Forme'\n",
       "22. 'ThundurusIncarnate Forme'\n",
       "23. 'ThundurusTherian Forme'\n",
       "24. 'LandorusIncarnate Forme'\n",
       "25. 'LandorusTherian Forme'\n",
       "26. 'Volcanion'\n",
       "\n",
       "\n"
      ],
      "text/plain": [
       " [1] \"Zapdos\"                   \"Moltres\"                 \n",
       " [3] \"Raikou\"                   \"Entei\"                   \n",
       " [5] \"Suicune\"                  \"Regirock\"                \n",
       " [7] \"Regice\"                   \"Registeel\"               \n",
       " [9] \"Latios\"                   \"Jirachi\"                 \n",
       "[11] \"DeoxysNormal Forme\"       \"DeoxysAttack Forme\"      \n",
       "[13] \"Uxie\"                     \"Mesprit\"                 \n",
       "[15] \"Azelf\"                    \"Heatran\"                 \n",
       "[17] \"ShayminLand Forme\"        \"Cobalion\"                \n",
       "[19] \"Terrakion\"                \"TornadusIncarnate Forme\" \n",
       "[21] \"TornadusTherian Forme\"    \"ThundurusIncarnate Forme\"\n",
       "[23] \"ThundurusTherian Forme\"   \"LandorusIncarnate Forme\" \n",
       "[25] \"LandorusTherian Forme\"    \"Volcanion\"               "
      ]
     },
     "metadata": {},
     "output_type": "display_data"
    },
    {
     "data": {
      "text/html": [
       "<ol class=list-inline>\n",
       "\t<li>'TyranitarMega Tyranitar'</li>\n",
       "\t<li>'SceptileMega Sceptile'</li>\n",
       "\t<li>'GardevoirMega Gardevoir'</li>\n",
       "\t<li>'Slaking'</li>\n",
       "\t<li>'SalamenceMega Salamence'</li>\n",
       "\t<li>'MetagrossMega Metagross'</li>\n",
       "\t<li>'GarchompMega Garchomp'</li>\n",
       "\t<li>'Cresselia'</li>\n",
       "\t<li>'Hydreigon'</li>\n",
       "\t<li>'KeldeoOrdinary Forme'</li>\n",
       "\t<li>'KeldeoResolute Forme'</li>\n",
       "\t<li>'MeloettaAria Forme'</li>\n",
       "\t<li>'MeloettaPirouette Forme'</li>\n",
       "\t<li>'Goodra'</li>\n",
       "</ol>\n"
      ],
      "text/latex": [
       "\\begin{enumerate*}\n",
       "\\item 'TyranitarMega Tyranitar'\n",
       "\\item 'SceptileMega Sceptile'\n",
       "\\item 'GardevoirMega Gardevoir'\n",
       "\\item 'Slaking'\n",
       "\\item 'SalamenceMega Salamence'\n",
       "\\item 'MetagrossMega Metagross'\n",
       "\\item 'GarchompMega Garchomp'\n",
       "\\item 'Cresselia'\n",
       "\\item 'Hydreigon'\n",
       "\\item 'KeldeoOrdinary Forme'\n",
       "\\item 'KeldeoResolute Forme'\n",
       "\\item 'MeloettaAria Forme'\n",
       "\\item 'MeloettaPirouette Forme'\n",
       "\\item 'Goodra'\n",
       "\\end{enumerate*}\n"
      ],
      "text/markdown": [
       "1. 'TyranitarMega Tyranitar'\n",
       "2. 'SceptileMega Sceptile'\n",
       "3. 'GardevoirMega Gardevoir'\n",
       "4. 'Slaking'\n",
       "5. 'SalamenceMega Salamence'\n",
       "6. 'MetagrossMega Metagross'\n",
       "7. 'GarchompMega Garchomp'\n",
       "8. 'Cresselia'\n",
       "9. 'Hydreigon'\n",
       "10. 'KeldeoOrdinary Forme'\n",
       "11. 'KeldeoResolute Forme'\n",
       "12. 'MeloettaAria Forme'\n",
       "13. 'MeloettaPirouette Forme'\n",
       "14. 'Goodra'\n",
       "\n",
       "\n"
      ],
      "text/plain": [
       " [1] \"TyranitarMega Tyranitar\" \"SceptileMega Sceptile\"  \n",
       " [3] \"GardevoirMega Gardevoir\" \"Slaking\"                \n",
       " [5] \"SalamenceMega Salamence\" \"MetagrossMega Metagross\"\n",
       " [7] \"GarchompMega Garchomp\"   \"Cresselia\"              \n",
       " [9] \"Hydreigon\"               \"KeldeoOrdinary Forme\"   \n",
       "[11] \"KeldeoResolute Forme\"    \"MeloettaAria Forme\"     \n",
       "[13] \"MeloettaPirouette Forme\" \"Goodra\"                 "
      ]
     },
     "metadata": {},
     "output_type": "display_data"
    }
   ],
   "source": [
    "# Which pokemon were incorrectly classified?\n",
    "\n",
    "nonlegendary.wrong = rep(NA,26)\n",
    "k = nrow(poke.data.notype)\n",
    "j = 0\n",
    "for(i in 1:k) {\n",
    "    if(log.pred[i] == \"False\" && \n",
    "       poke.data.notype$Legendary[i] == \"True\") {\n",
    "        nonlegendary.wrong[j] = rownames(poke.data.notype)[i]\n",
    "        j = j + 1\n",
    "    }\n",
    "}\n",
    "\n",
    "\n",
    "legendary.wrong = rep(NA,14)\n",
    "k = nrow(poke.data.notype)\n",
    "j = 0\n",
    "for(i in 1:k) {\n",
    "    if(log.pred[i] == \"True\" && \n",
    "       poke.data.notype$Legendary[i] == \"False\") {\n",
    "        legendary.wrong[j] = rownames(poke.data.notype)[i]\n",
    "        j = j + 1\n",
    "    }\n",
    "}\n",
    "\n",
    "nonlegendary.wrong\n",
    "legendary.wrong"
   ]
  },
  {
   "cell_type": "code",
   "execution_count": 220,
   "metadata": {},
   "outputs": [
    {
     "name": "stderr",
     "output_type": "stream",
     "text": [
      "Warning message in predict.lm(object, newdata, se.fit, scale = 1, type = ifelse(type == :\n",
      "\"prediction from a rank-deficient fit may be misleading\"Warning message in predict.lm(object, newdata, se.fit, scale = 1, type = ifelse(type == :\n",
      "\"prediction from a rank-deficient fit may be misleading\"Warning message in predict.lm(object, newdata, se.fit, scale = 1, type = ifelse(type == :\n",
      "\"prediction from a rank-deficient fit may be misleading\"Warning message in predict.lm(object, newdata, se.fit, scale = 1, type = ifelse(type == :\n",
      "\"prediction from a rank-deficient fit may be misleading\"Warning message in predict.lm(object, newdata, se.fit, scale = 1, type = ifelse(type == :\n",
      "\"prediction from a rank-deficient fit may be misleading\"Warning message in predict.lm(object, newdata, se.fit, scale = 1, type = ifelse(type == :\n",
      "\"prediction from a rank-deficient fit may be misleading\"Warning message in predict.lm(object, newdata, se.fit, scale = 1, type = ifelse(type == :\n",
      "\"prediction from a rank-deficient fit may be misleading\"Warning message in predict.lm(object, newdata, se.fit, scale = 1, type = ifelse(type == :\n",
      "\"prediction from a rank-deficient fit may be misleading\"Warning message in predict.lm(object, newdata, se.fit, scale = 1, type = ifelse(type == :\n",
      "\"prediction from a rank-deficient fit may be misleading\"Warning message in predict.lm(object, newdata, se.fit, scale = 1, type = ifelse(type == :\n",
      "\"prediction from a rank-deficient fit may be misleading\""
     ]
    }
   ],
   "source": [
    "# Now we will see how good logistic Regression actually works, using\n",
    "# cross validation to find out OOB test error\n",
    "\n",
    "# We will use 10-fold validation\n",
    "\n",
    "set.seed(1)\n",
    "folds = sample(1:10, nrow(poke.data.notype), replace = TRUE)\n",
    "cv.error = rep(0,10)\n",
    "for(i in 1:10) {\n",
    "    train.log.fit = glm(Legendary ~., \n",
    "                        data = poke.data.notype[i != folds,],\n",
    "                        family = \"binomial\")\n",
    "    train.log.prob = predict(train.log.fit,\n",
    "                            poke.data.notype[i == folds,],\n",
    "                            type = \"response\")\n",
    "    train.log.pred = rep(\"False\", length(train.log.prob))\n",
    "    train.log.pred[train.log.prob >= 0.5] = \"True\"\n",
    "    cv.error[i] = mean(train.log.pred != \n",
    "                       poke.data.notype$Legendary[i == folds])\n",
    "}"
   ]
  },
  {
   "cell_type": "code",
   "execution_count": 221,
   "metadata": {
    "scrolled": true
   },
   "outputs": [
    {
     "data": {
      "text/html": [
       "0.943574341674743"
      ],
      "text/latex": [
       "0.943574341674743"
      ],
      "text/markdown": [
       "0.943574341674743"
      ],
      "text/plain": [
       "[1] 0.9435743"
      ]
     },
     "metadata": {},
     "output_type": "display_data"
    }
   ],
   "source": [
    "mean(1 - cv.error)"
   ]
  },
  {
   "cell_type": "code",
   "execution_count": 206,
   "metadata": {
    "scrolled": true
   },
   "outputs": [
    {
     "name": "stderr",
     "output_type": "stream",
     "text": [
      "Warning message in lda.default(x, grouping, ...):\n",
      "\"variables are collinear\"Warning message in lda.default(x, grouping, ...):\n",
      "\"variables are collinear\"Warning message in lda.default(x, grouping, ...):\n",
      "\"variables are collinear\"Warning message in lda.default(x, grouping, ...):\n",
      "\"variables are collinear\"Warning message in lda.default(x, grouping, ...):\n",
      "\"variables are collinear\"Warning message in lda.default(x, grouping, ...):\n",
      "\"variables are collinear\"Warning message in lda.default(x, grouping, ...):\n",
      "\"variables are collinear\"Warning message in lda.default(x, grouping, ...):\n",
      "\"variables are collinear\"Warning message in lda.default(x, grouping, ...):\n",
      "\"variables are collinear\"Warning message in lda.default(x, grouping, ...):\n",
      "\"variables are collinear\""
     ]
    }
   ],
   "source": [
    "# Our model doesn't preform terribly, correctly classifying about 95% \n",
    "# of pokemon correctly.\n",
    "\n",
    "# Quickly, I will preform Linear Discriminant Analysis\n",
    "\n",
    "library(MASS)\n",
    "\n",
    "cv.error.lda = rep(0,10)\n",
    "for(i in 1:10) {\n",
    "    train.lda.fit = lda(Legendary ~., \n",
    "                        data = poke.data.notype[i != folds,])\n",
    "    train.lda.pred = predict(train.lda.fit, \n",
    "                             poke.data.notype[i == folds,])$class\n",
    "    cv.error.lda[i] = mean(train.lda.pred != \n",
    "                       poke.data.notype$Legendary[i == folds])\n",
    "}"
   ]
  },
  {
   "cell_type": "code",
   "execution_count": 205,
   "metadata": {
    "scrolled": true
   },
   "outputs": [
    {
     "data": {
      "text/html": [
       "0.938417382017102"
      ],
      "text/latex": [
       "0.938417382017102"
      ],
      "text/markdown": [
       "0.938417382017102"
      ],
      "text/plain": [
       "[1] 0.9384174"
      ]
     },
     "metadata": {},
     "output_type": "display_data"
    }
   ],
   "source": [
    "1 - mean(cv.error.lda)"
   ]
  },
  {
   "cell_type": "code",
   "execution_count": 208,
   "metadata": {
    "scrolled": false
   },
   "outputs": [
    {
     "data": {
      "text/html": [
       "<table>\n",
       "<caption>A matrix: 8 × 8 of type dbl</caption>\n",
       "<thead>\n",
       "\t<tr><th></th><th scope=col>Total</th><th scope=col>HP</th><th scope=col>Attack</th><th scope=col>Defense</th><th scope=col>Sp..Atk</th><th scope=col>Sp..Def</th><th scope=col>Speed</th><th scope=col>Generation</th></tr>\n",
       "</thead>\n",
       "<tbody>\n",
       "\t<tr><th scope=row>Total</th><td>1.00000000</td><td>0.61874835</td><td>0.73621065</td><td>0.61278743</td><td>0.74724986</td><td>0.71760947</td><td> 0.57594266</td><td> 0.04838402</td></tr>\n",
       "\t<tr><th scope=row>HP</th><td>0.61874835</td><td>1.00000000</td><td>0.42238603</td><td>0.23962232</td><td>0.36237986</td><td>0.37871807</td><td> 0.17595206</td><td> 0.05868251</td></tr>\n",
       "\t<tr><th scope=row>Attack</th><td>0.73621065</td><td>0.42238603</td><td>1.00000000</td><td>0.43868706</td><td>0.39636176</td><td>0.26398955</td><td> 0.38123974</td><td> 0.05145134</td></tr>\n",
       "\t<tr><th scope=row>Defense</th><td>0.61278743</td><td>0.23962232</td><td>0.43868706</td><td>1.00000000</td><td>0.22354861</td><td>0.51074659</td><td> 0.01522660</td><td> 0.04241857</td></tr>\n",
       "\t<tr><th scope=row>Sp..Atk</th><td>0.74724986</td><td>0.36237986</td><td>0.39636176</td><td>0.22354861</td><td>1.00000000</td><td>0.50612142</td><td> 0.47301788</td><td> 0.03643683</td></tr>\n",
       "\t<tr><th scope=row>Sp..Def</th><td>0.71760947</td><td>0.37871807</td><td>0.26398955</td><td>0.51074659</td><td>0.50612142</td><td>1.00000000</td><td> 0.25913311</td><td> 0.02848599</td></tr>\n",
       "\t<tr><th scope=row>Speed</th><td>0.57594266</td><td>0.17595206</td><td>0.38123974</td><td>0.01522660</td><td>0.47301788</td><td>0.25913311</td><td> 1.00000000</td><td>-0.02312106</td></tr>\n",
       "\t<tr><th scope=row>Generation</th><td>0.04838402</td><td>0.05868251</td><td>0.05145134</td><td>0.04241857</td><td>0.03643683</td><td>0.02848599</td><td>-0.02312106</td><td> 1.00000000</td></tr>\n",
       "</tbody>\n",
       "</table>\n"
      ],
      "text/latex": [
       "A matrix: 8 × 8 of type dbl\n",
       "\\begin{tabular}{r|llllllll}\n",
       "  & Total & HP & Attack & Defense & Sp..Atk & Sp..Def & Speed & Generation\\\\\n",
       "\\hline\n",
       "\tTotal & 1.00000000 & 0.61874835 & 0.73621065 & 0.61278743 & 0.74724986 & 0.71760947 &  0.57594266 &  0.04838402\\\\\n",
       "\tHP & 0.61874835 & 1.00000000 & 0.42238603 & 0.23962232 & 0.36237986 & 0.37871807 &  0.17595206 &  0.05868251\\\\\n",
       "\tAttack & 0.73621065 & 0.42238603 & 1.00000000 & 0.43868706 & 0.39636176 & 0.26398955 &  0.38123974 &  0.05145134\\\\\n",
       "\tDefense & 0.61278743 & 0.23962232 & 0.43868706 & 1.00000000 & 0.22354861 & 0.51074659 &  0.01522660 &  0.04241857\\\\\n",
       "\tSp..Atk & 0.74724986 & 0.36237986 & 0.39636176 & 0.22354861 & 1.00000000 & 0.50612142 &  0.47301788 &  0.03643683\\\\\n",
       "\tSp..Def & 0.71760947 & 0.37871807 & 0.26398955 & 0.51074659 & 0.50612142 & 1.00000000 &  0.25913311 &  0.02848599\\\\\n",
       "\tSpeed & 0.57594266 & 0.17595206 & 0.38123974 & 0.01522660 & 0.47301788 & 0.25913311 &  1.00000000 & -0.02312106\\\\\n",
       "\tGeneration & 0.04838402 & 0.05868251 & 0.05145134 & 0.04241857 & 0.03643683 & 0.02848599 & -0.02312106 &  1.00000000\\\\\n",
       "\\end{tabular}\n"
      ],
      "text/markdown": [
       "\n",
       "A matrix: 8 × 8 of type dbl\n",
       "\n",
       "| <!--/--> | Total | HP | Attack | Defense | Sp..Atk | Sp..Def | Speed | Generation |\n",
       "|---|---|---|---|---|---|---|---|---|\n",
       "| Total | 1.00000000 | 0.61874835 | 0.73621065 | 0.61278743 | 0.74724986 | 0.71760947 |  0.57594266 |  0.04838402 |\n",
       "| HP | 0.61874835 | 1.00000000 | 0.42238603 | 0.23962232 | 0.36237986 | 0.37871807 |  0.17595206 |  0.05868251 |\n",
       "| Attack | 0.73621065 | 0.42238603 | 1.00000000 | 0.43868706 | 0.39636176 | 0.26398955 |  0.38123974 |  0.05145134 |\n",
       "| Defense | 0.61278743 | 0.23962232 | 0.43868706 | 1.00000000 | 0.22354861 | 0.51074659 |  0.01522660 |  0.04241857 |\n",
       "| Sp..Atk | 0.74724986 | 0.36237986 | 0.39636176 | 0.22354861 | 1.00000000 | 0.50612142 |  0.47301788 |  0.03643683 |\n",
       "| Sp..Def | 0.71760947 | 0.37871807 | 0.26398955 | 0.51074659 | 0.50612142 | 1.00000000 |  0.25913311 |  0.02848599 |\n",
       "| Speed | 0.57594266 | 0.17595206 | 0.38123974 | 0.01522660 | 0.47301788 | 0.25913311 |  1.00000000 | -0.02312106 |\n",
       "| Generation | 0.04838402 | 0.05868251 | 0.05145134 | 0.04241857 | 0.03643683 | 0.02848599 | -0.02312106 |  1.00000000 |\n",
       "\n"
      ],
      "text/plain": [
       "           Total      HP         Attack     Defense    Sp..Atk    Sp..Def   \n",
       "Total      1.00000000 0.61874835 0.73621065 0.61278743 0.74724986 0.71760947\n",
       "HP         0.61874835 1.00000000 0.42238603 0.23962232 0.36237986 0.37871807\n",
       "Attack     0.73621065 0.42238603 1.00000000 0.43868706 0.39636176 0.26398955\n",
       "Defense    0.61278743 0.23962232 0.43868706 1.00000000 0.22354861 0.51074659\n",
       "Sp..Atk    0.74724986 0.36237986 0.39636176 0.22354861 1.00000000 0.50612142\n",
       "Sp..Def    0.71760947 0.37871807 0.26398955 0.51074659 0.50612142 1.00000000\n",
       "Speed      0.57594266 0.17595206 0.38123974 0.01522660 0.47301788 0.25913311\n",
       "Generation 0.04838402 0.05868251 0.05145134 0.04241857 0.03643683 0.02848599\n",
       "           Speed       Generation \n",
       "Total       0.57594266  0.04838402\n",
       "HP          0.17595206  0.05868251\n",
       "Attack      0.38123974  0.05145134\n",
       "Defense     0.01522660  0.04241857\n",
       "Sp..Atk     0.47301788  0.03643683\n",
       "Sp..Def     0.25913311  0.02848599\n",
       "Speed       1.00000000 -0.02312106\n",
       "Generation -0.02312106  1.00000000"
      ]
     },
     "metadata": {},
     "output_type": "display_data"
    }
   ],
   "source": [
    "# This is slightly better than just guessing that each pokemon is not\n",
    "# legendary. Also, note that this has revealed a critical flaw in our\n",
    "# analysis. Our predictors are collinear! Observe:\n",
    "\n",
    "cor(poke.data.notype[,-9])"
   ]
  },
  {
   "cell_type": "code",
   "execution_count": 257,
   "metadata": {},
   "outputs": [
    {
     "data": {
      "text/html": [
       "0.933874263391817"
      ],
      "text/latex": [
       "0.933874263391817"
      ],
      "text/markdown": [
       "0.933874263391817"
      ],
      "text/plain": [
       "[1] 0.9338743"
      ]
     },
     "metadata": {},
     "output_type": "display_data"
    },
    {
     "data": {
      "text/html": [
       "0.941533135467323"
      ],
      "text/latex": [
       "0.941533135467323"
      ],
      "text/markdown": [
       "0.941533135467323"
      ],
      "text/plain": [
       "[1] 0.9415331"
      ]
     },
     "metadata": {},
     "output_type": "display_data"
    }
   ],
   "source": [
    "# There are very large correlations between some stats. For example,\n",
    "# r = 0.5 between Sp.Def and Defence\n",
    "\n",
    "# This has me wondering if perhaps a better measure would be to only\n",
    "# look at the total of the stats, or maybe to disregard the total?\n",
    "\n",
    "# Using only total stats:\n",
    "\n",
    "folds = sample(1:10, nrow(poke.data.notype), rep = TRUE)\n",
    "cv.error.logfit2 = rep(0,10)\n",
    "for(i in 1:10) {\n",
    "    log.fit2 = glm(Legendary ~ Total, data = poke.data.notype[i != folds,], family = \"binomial\")\n",
    "    log.fit2.prob = predict(log.fit2, poke.data.notype[i == folds,], type = \"response\")\n",
    "    log.fit2.pred = rep(\"False\", length(log.fit2.prob))\n",
    "    log.fit2.pred[log.fit2.prob >= 0.5] = \"True\"\n",
    "    cv.error.logfit2[i] = mean(log.fit2.pred != poke.data.notype$Legendary[i == folds])\n",
    "}\n",
    "\n",
    "\n",
    "# Diregarding total stats:\n",
    "\n",
    "folds = sample(1:10, nrow(poke.data.notype), rep = TRUE)\n",
    "cv.error.logfit3 = rep(0,10)\n",
    "for(i in 1:10) {\n",
    "    log.fit3 = glm(Legendary ~ .-Total, data = poke.data.notype[i != folds,], family = \"binomial\")\n",
    "    log.fit3.prob = predict(log.fit3, poke.data.notype[i == folds,], type = \"response\")\n",
    "    log.fit3.pred = rep(\"False\", length(log.fit3.prob))\n",
    "    log.fit3.pred[log.fit3.prob >= 0.5] = \"True\"\n",
    "    cv.error.logfit3[i] = mean(log.fit3.pred != poke.data.notype$Legendary[i == folds])\n",
    "}\n",
    "\n",
    "\n",
    "1 - mean(cv.error.logfit2)\n",
    "1 - mean(cv.error.logfit3)"
   ]
  },
  {
   "cell_type": "code",
   "execution_count": 286,
   "metadata": {},
   "outputs": [],
   "source": [
    "# Finally, we consider the k-nearest neighbour approach.\n",
    "\n",
    "library(DMwR)\n",
    "\n",
    "\n",
    "folds = sample(1:10, nrow(poke.data.notype), rep = TRUE)\n",
    "cv.error.logfit4 = rep(0,10)\n",
    "for(i in 1:10) {\n",
    "    train.x = poke.data.notype[i != folds,]\n",
    "    test.x = poke.data.notype[i == folds,]\n",
    "    train.y = poke.data.notype$Legendary[i != folds]\n",
    "    test.y = poke.data.notype$Legendary[i == folds]\n",
    "    knn.fit = kNN(Legendary ~., train.x, test.x, norm = FALSE, k = 1)\n",
    "    cv.error.logfit4[i] = mean(knn.fit != poke.data.notype$Legendary[i == folds])\n",
    "}"
   ]
  },
  {
   "cell_type": "code",
   "execution_count": 285,
   "metadata": {},
   "outputs": [
    {
     "data": {
      "text/html": [
       "0.956426197568809"
      ],
      "text/latex": [
       "0.956426197568809"
      ],
      "text/markdown": [
       "0.956426197568809"
      ],
      "text/plain": [
       "[1] 0.9564262"
      ]
     },
     "metadata": {},
     "output_type": "display_data"
    }
   ],
   "source": [
    "1 - mean(cv.error.logfit4)"
   ]
  },
  {
   "cell_type": "code",
   "execution_count": null,
   "metadata": {},
   "outputs": [],
   "source": [
    "## The k-nearest neighbours approach has the lowest test error rate. Cool!"
   ]
  },
  {
   "cell_type": "code",
   "execution_count": 287,
   "metadata": {},
   "outputs": [],
   "source": [
    "fix(poke.data)"
   ]
  }
 ],
 "metadata": {
  "kernelspec": {
   "display_name": "R",
   "language": "R",
   "name": "ir"
  },
  "language_info": {
   "codemirror_mode": "r",
   "file_extension": ".r",
   "mimetype": "text/x-r-source",
   "name": "R",
   "pygments_lexer": "r",
   "version": "3.5.3"
  }
 },
 "nbformat": 4,
 "nbformat_minor": 2
}
